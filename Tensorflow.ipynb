{
 "cells": [
  {
   "cell_type": "markdown",
   "metadata": {},
   "source": [
    "## classification\n",
    "* 지도학습-회귀/분류\n",
    "* 비지도학습-군집화/차원축소\n",
    "\n",
    "* 예측한다는건 y = wx+b에서 w와 b를 찾는 것.\n",
    "* 우선 hypothesis를 정함. 임의의 wx+b를 정한다. \n",
    "* 첫번째 hypothesis에 대한 첫번째 cost를 확인. 예측값과 실제값의 차를 err. 비용함수, 손실함수.\n",
    "\n",
    "\n",
    "* 머신러닝은 weight의 경사가 0일때 그만둠.\n",
    "* opyimization중 문제가 local minimun과 overfitting이 있음.\n",
    "overfitting이 좋다고 생각할 수 있는데 지금 있는 데이터가 너무 잘 맞아서 새로운 데이터에 대한 대응이 안된다. 일반화가 덜된 상황임. p40에 보면 overfiiting에서 새로운 초록색이 왔을 때 잘못 분류할 가능성이 크다.\n",
    "\n",
    "* x수에 비해 데이터가 작을 때, \n",
    "* cost함수는 우리가 원하는 방향으로 학습 시키기 위한 것. \n",
    "* Trainset vs Testset(8:2)로 진행. trainset을 많이시키면 기본 데이터에 너무 많아서 testset이 오히려 안맞음(새로운 데이터에대한 대응이 안됨)\n",
    "* 교차검증- trainset을 학습시키고 각 단계마다 평균을 냄.\n"
   ]
  },
  {
   "cell_type": "markdown",
   "metadata": {},
   "source": [
    "## 텐서플로우 실행하기\n"
   ]
  },
  {
   "cell_type": "code",
   "execution_count": 1,
   "metadata": {},
   "outputs": [
    {
     "name": "stdout",
     "output_type": "stream",
     "text": [
      "Requirement already satisfied: tensorflow in c:\\programdata\\anaconda3\\lib\\site-packages (1.5.0)\n",
      "Requirement already satisfied: protobuf>=3.4.0 in c:\\programdata\\anaconda3\\lib\\site-packages (from tensorflow) (3.9.0)\n",
      "Requirement already satisfied: absl-py>=0.1.6 in c:\\programdata\\anaconda3\\lib\\site-packages (from tensorflow) (0.7.1)\n",
      "Requirement already satisfied: six>=1.10.0 in c:\\programdata\\anaconda3\\lib\\site-packages (from tensorflow) (1.11.0)\n",
      "Requirement already satisfied: wheel>=0.26 in c:\\programdata\\anaconda3\\lib\\site-packages (from tensorflow) (0.31.1)\n",
      "Requirement already satisfied: numpy>=1.12.1 in c:\\programdata\\anaconda3\\lib\\site-packages (from tensorflow) (1.14.3)\n",
      "Requirement already satisfied: tensorflow-tensorboard<1.6.0,>=1.5.0 in c:\\programdata\\anaconda3\\lib\\site-packages (from tensorflow) (1.5.1)\n",
      "Requirement already satisfied: setuptools in c:\\programdata\\anaconda3\\lib\\site-packages (from protobuf>=3.4.0->tensorflow) (39.1.0)\n",
      "Requirement already satisfied: bleach==1.5.0 in c:\\programdata\\anaconda3\\lib\\site-packages (from tensorflow-tensorboard<1.6.0,>=1.5.0->tensorflow) (1.5.0)\n",
      "Requirement already satisfied: markdown>=2.6.8 in c:\\programdata\\anaconda3\\lib\\site-packages (from tensorflow-tensorboard<1.6.0,>=1.5.0->tensorflow) (3.1.1)\n",
      "Requirement already satisfied: werkzeug>=0.11.10 in c:\\programdata\\anaconda3\\lib\\site-packages (from tensorflow-tensorboard<1.6.0,>=1.5.0->tensorflow) (0.14.1)\n",
      "Requirement already satisfied: html5lib==0.9999999 in c:\\programdata\\anaconda3\\lib\\site-packages (from tensorflow-tensorboard<1.6.0,>=1.5.0->tensorflow) (0.9999999)\n"
     ]
    }
   ],
   "source": [
    "import sys \n",
    "!{sys.executable} -m pip install tensorflow"
   ]
  },
  {
   "cell_type": "code",
   "execution_count": 2,
   "metadata": {},
   "outputs": [
    {
     "name": "stderr",
     "output_type": "stream",
     "text": [
      "C:\\ProgramData\\Anaconda3\\lib\\site-packages\\h5py\\__init__.py:36: FutureWarning: Conversion of the second argument of issubdtype from `float` to `np.floating` is deprecated. In future, it will be treated as `np.float64 == np.dtype(float).type`.\n",
      "  from ._conv import register_converters as _register_converters\n"
     ]
    }
   ],
   "source": [
    "import tensorflow as tf"
   ]
  },
  {
   "cell_type": "markdown",
   "metadata": {},
   "source": [
    "* tf.constant하면 안나오는데 sess를 만들어서 그 안에 넣어야 값이 나옴"
   ]
  },
  {
   "cell_type": "code",
   "execution_count": 3,
   "metadata": {},
   "outputs": [
    {
     "name": "stdout",
     "output_type": "stream",
     "text": [
      "Tensor(\"Const:0\", shape=(), dtype=string)\n",
      "b'Hello TensorFlow!'\n"
     ]
    }
   ],
   "source": [
    "hello = tf.constant('Hello TensorFlow!')\n",
    "print(hello)\n",
    "\n",
    "sess = tf.Session()\n",
    "result = sess.run(hello)\n",
    "print(result)\n",
    "sess.close()"
   ]
  },
  {
   "cell_type": "markdown",
   "metadata": {},
   "source": [
    "## 계산그래프 만들기\n",
    " * tensor를 만드는 건 그냥 노드를 만드는 것일 뿐 \n",
    " * run을 해야 흘러감\n",
    " * 데이터타입이 꼭 맞아야지 계산이 됨"
   ]
  },
  {
   "cell_type": "code",
   "execution_count": 4,
   "metadata": {},
   "outputs": [],
   "source": [
    "import tensorflow as tf\n",
    "\n",
    "node1 = tf.constant(3, tf.float32)#explicitly dtype = tf.floot32\n",
    "node2 = tf.constant( 4.0) #implicitly tf.float32\n",
    "node3 = tf.add(node1, node2)\n"
   ]
  },
  {
   "cell_type": "code",
   "execution_count": 5,
   "metadata": {},
   "outputs": [
    {
     "name": "stdout",
     "output_type": "stream",
     "text": [
      "node1: Tensor(\"Const_1:0\", shape=(), dtype=float32)\n",
      "node2: Tensor(\"Const_2:0\", shape=(), dtype=float32)\n",
      "node3: Tensor(\"Add:0\", shape=(), dtype=float32)\n"
     ]
    }
   ],
   "source": [
    "print(\"node1:\", node1)\n",
    "print(\"node2:\", node2)\n",
    "print(\"node3:\", node3)"
   ]
  },
  {
   "cell_type": "code",
   "execution_count": 6,
   "metadata": {},
   "outputs": [
    {
     "name": "stdout",
     "output_type": "stream",
     "text": [
      "session.run([node1,node2]): [3.0, 4.0]\n",
      "session.run([node3]): 7.0\n"
     ]
    }
   ],
   "source": [
    "session = tf.Session()\n",
    "print(\"session.run([node1,node2]):\",session.run([node1,node2]))\n",
    "print(\"session.run([node3]):\",session.run(node3))\n",
    "\n",
    "session.close() #session을 열었으면 닫아줘야함.\n"
   ]
  },
  {
   "cell_type": "markdown",
   "metadata": {},
   "source": [
    "### 빌딩구조와 실행구조의 분리\n",
    "* 장점 : 1. Back propagation (Gradient 자동계산)이 쉽다.\n",
    "        2. session을 동시에 돌리면 되기때문에 병렬구성이 쉽다.\n",
    "        3. 딥러닝은 데이터가 많으므로 시간이 오래걸림. 분산처리에 능통함.\n",
    "        딥러닝 구상하기가 쉬움. \n",
    "        4. 그래프로 확인가능하니까 구조파악하기가 쉬움\n",
    "* 단점 : 디버깅이 어렵다.디버깅 해봐야 어디가 오류난지 알 수 있음. "
   ]
  },
  {
   "cell_type": "markdown",
   "metadata": {},
   "source": [
    "### 자료형"
   ]
  },
  {
   "cell_type": "markdown",
   "metadata": {},
   "source": [
    "* 상수형 - shape(행렬)\n",
    "shape이 없는건 스칼라\n"
   ]
  },
  {
   "cell_type": "code",
   "execution_count": 7,
   "metadata": {},
   "outputs": [
    {
     "name": "stdout",
     "output_type": "stream",
     "text": [
      "Tensor(\"Const_3:0\", shape=(), dtype=float32)\n",
      "()\n",
      "1.0\n"
     ]
    }
   ],
   "source": [
    "#다른 type으로\n",
    "a = tf.constant(1, dtype = tf.float32)\n",
    "print(a)\n",
    "print(a.shape) #스칼라형태로 출력됨\n",
    "with tf.Session() as session:\n",
    "    print(session.run(a))"
   ]
  },
  {
   "cell_type": "code",
   "execution_count": 8,
   "metadata": {},
   "outputs": [
    {
     "name": "stdout",
     "output_type": "stream",
     "text": [
      "Tensor(\"Const_4:0\", shape=(1,), dtype=float32)\n",
      "(1,)\n",
      "[1.]\n"
     ]
    }
   ],
   "source": [
    "#다른 shape으로\n",
    "a = tf.constant(1, dtype = tf.float32, shape=(1,))\n",
    "print(a)\n",
    "print(a.shape) #벡터형태\n",
    "with tf.Session() as session:\n",
    "    print(session.run(a))"
   ]
  },
  {
   "cell_type": "code",
   "execution_count": 9,
   "metadata": {},
   "outputs": [
    {
     "name": "stdout",
     "output_type": "stream",
     "text": [
      "Tensor(\"Const_5:0\", shape=(1, 1), dtype=float32)\n",
      "(1, 1)\n",
      "[[1.]]\n"
     ]
    }
   ],
   "source": [
    "#2차원으로 설정\n",
    "a = tf.constant(1, dtype = tf.float32, shape=(1,1))\n",
    "print(a)\n",
    "print(a.shape) #행렬형태\n",
    "with tf.Session() as session:\n",
    "    print(session.run(a))"
   ]
  },
  {
   "cell_type": "code",
   "execution_count": 10,
   "metadata": {},
   "outputs": [
    {
     "name": "stdout",
     "output_type": "stream",
     "text": [
      "Tensor(\"Const_6:0\", shape=(1, 1, 1), dtype=float32)\n",
      "(1, 1, 1)\n",
      "[[[1.]]]\n"
     ]
    }
   ],
   "source": [
    "#3차원으로 설정\n",
    "a = tf.constant(1, dtype = tf.float32, shape=(1,1,1))\n",
    "print(a)\n",
    "print(a.shape) #다행렬\n",
    "with tf.Session() as session:\n",
    "    print(session.run(a))"
   ]
  },
  {
   "cell_type": "markdown",
   "metadata": {},
   "source": [
    "* placeholder - 값을 실행시키는 단계에서 feed_dict 인자를 통해 전달./값을 갈아끼울 수 있음\n"
   ]
  },
  {
   "cell_type": "code",
   "execution_count": 11,
   "metadata": {},
   "outputs": [
    {
     "name": "stdout",
     "output_type": "stream",
     "text": [
      "x:  Tensor(\"Placeholder:0\", dtype=float32)\n",
      "y:  Tensor(\"mul:0\", dtype=float32)\n",
      "[2. 4. 6.]\n"
     ]
    }
   ],
   "source": [
    "input_data = [1,2,3]\n",
    "x = tf.placeholder(dtype = tf.float32) #그래프를 만드는 것. \n",
    "#x값이 float일거야. 라고만 정의한 것 값을 지정하지 않음. \n",
    "\n",
    "y = x*2\n",
    "print(\"x: \",x)\n",
    "print(\"y: \",y)\n",
    "\n",
    "session = tf.Session()\n",
    "\n",
    "#feed_dict를 통해 값을 전달합니다 ( 이 때 x에 값이 들어가게 됨.형변환이 일어남.)\n",
    "#실행할 때 [1,2,3] float형으로 받기 때문에 [2.0 4.0 6.0]으로 받음 0은 생략됨.\n",
    "#피쳐값에 x는 새로운 데이터가 오면 갈아끼워야하기때문에 placeholder를 씀. \n",
    "result = session.run(y, feed_dict = {x:input_data})\n",
    "print(result)\n",
    "session.close()"
   ]
  },
  {
   "cell_type": "markdown",
   "metadata": {},
   "source": [
    "* variable은 변할 수 있는 값. weight는 update 시켜야하기때문에(낮은값으로)\n",
    "\n",
    "* 주로 weight에서 사용함"
   ]
  },
  {
   "cell_type": "code",
   "execution_count": 12,
   "metadata": {},
   "outputs": [
    {
     "name": "stdout",
     "output_type": "stream",
     "text": [
      "x:  Tensor(\"Placeholder_1:0\", dtype=float32)\n",
      "weights:  <tf.Variable 'Variable:0' shape=(1,) dtype=float32_ref>\n",
      "biases:  <tf.Variable 'Variable_1:0' shape=(1,) dtype=float32_ref>\n"
     ]
    }
   ],
   "source": [
    "x = tf.placeholder(dtype = tf.float32)\n",
    "x_data = [1 ,2, 4]\n",
    "\n",
    "#초기값: tf.random_normal([1,3],stddev = 0.35)\n",
    "#\n",
    "weights = tf.Variable([3], dtype = tf.float32)\n",
    "biases = tf.Variable([4], dtype = tf.float32)\n",
    "\n",
    "y = weights*x + biases\n",
    "\n",
    "print(\"x: \", x)\n",
    "print(\"weights: \" , weights)\n",
    "print(\"biases: \" , biases)"
   ]
  },
  {
   "cell_type": "markdown",
   "metadata": {},
   "source": [
    "### 개별 initializer"
   ]
  },
  {
   "cell_type": "code",
   "execution_count": 13,
   "metadata": {},
   "outputs": [
    {
     "name": "stdout",
     "output_type": "stream",
     "text": [
      "[ 7. 10. 16.]\n",
      "[ 7.  9. 13.]\n"
     ]
    }
   ],
   "source": [
    "with tf.Session() as session:\n",
    "    #초기화 오퍼레이션을 실행\n",
    "    session.run([weights.initializer, biases.initializer])\n",
    "    \n",
    "    result = session.run(y, feed_dict = {x:x_data})\n",
    "    print(result)\n",
    "    \n",
    "    #변수변경 //변수 재 할당\n",
    "    session.run(tf.assign(weights,[2]))\n",
    "    session.run(tf.assign(biases,[5]))\n",
    "    \n",
    "    #다시실행\n",
    "    result = session.run(y, feed_dict ={x:x_data})\n",
    "    print(result)"
   ]
  },
  {
   "cell_type": "markdown",
   "metadata": {},
   "source": [
    "## Global_variable"
   ]
  },
  {
   "cell_type": "code",
   "execution_count": 14,
   "metadata": {},
   "outputs": [
    {
     "name": "stdout",
     "output_type": "stream",
     "text": [
      "[ 7. 10. 16.]\n",
      "[ 6.  8. 12.]\n"
     ]
    }
   ],
   "source": [
    "#변수 초기화 작업\n",
    "init_op = tf.global_variables_initializer()\n",
    "\n",
    "with tf.Session() as session:\n",
    "    #초기화 오퍼레이션을 실행\n",
    "    session.run(init_op)\n",
    "    \n",
    "    result = session.run(y , feed_dict = {x: x_data})\n",
    "    print(result)\n",
    "    \n",
    "    #변수 변경 // 변수 재할당 \n",
    "    session.run(tf.assign(weights,[2]))\n",
    "   \n",
    "    \n",
    "    #다시실행\n",
    "    result = session.run(y, feed_dict ={x:x_data})\n",
    "    print(result)"
   ]
  },
  {
   "cell_type": "code",
   "execution_count": 15,
   "metadata": {},
   "outputs": [
    {
     "name": "stdout",
     "output_type": "stream",
     "text": [
      "a:  Tensor(\"Const_7:0\", shape=(), dtype=int32)\n",
      "b:  Tensor(\"Const_8:0\", shape=(2,), dtype=float32)\n",
      "c:  Tensor(\"Const_9:0\", shape=(2, 2), dtype=float32)\n",
      "d:  Tensor(\"Const_10:0\", shape=(2, 2, 2), dtype=float32)\n"
     ]
    }
   ],
   "source": [
    "a = tf.constant(1) # 0차원 스칼라\n",
    "b = tf.constant([1,2],dtype = tf.float32) #1차원 벡터\n",
    "c = tf.constant([[1,2],[3,4]],dtype = tf.float32) #2차원 행렬\n",
    "d = tf.constant([[[1.0,2.0],[3,4]],[[5,6],[7,8]]]) # 3차원\n",
    "\n",
    "\n",
    "print('a: ' ,a)\n",
    "print('b: ' ,b)\n",
    "print('c: ' ,c)\n",
    "print('d: ' ,d)\n",
    "\n"
   ]
  },
  {
   "cell_type": "markdown",
   "metadata": {},
   "source": [
    "## Tensor의 속성(Rank, Shape, Types)"
   ]
  },
  {
   "cell_type": "markdown",
   "metadata": {},
   "source": [
    "### Rank"
   ]
  },
  {
   "cell_type": "code",
   "execution_count": 25,
   "metadata": {},
   "outputs": [
    {
     "name": "stdout",
     "output_type": "stream",
     "text": [
      "a's rank: 0\n",
      "a's rank: 1\n",
      "a's rank: 2\n",
      "a's rank: 3\n",
      "**************************************************\n",
      "a's rank: Tensor(\"Rank_13:0\", shape=(), dtype=int32)\n",
      "a's rank: Tensor(\"Rank_14:0\", shape=(), dtype=int32)\n",
      "a's rank: Tensor(\"Rank_15:0\", shape=(), dtype=int32)\n",
      "a's rank: Tensor(\"Rank_16:0\", shape=(), dtype=int32)\n"
     ]
    }
   ],
   "source": [
    "print(\"a's rank:\" , a._rank())\n",
    "print(\"a's rank:\" , b._rank())\n",
    "print(\"a's rank:\" , c._rank())\n",
    "print(\"a's rank:\" , d._rank())\n",
    "\n",
    "print(\"*\" *50)\n",
    "\n",
    "print(\"a's rank:\" , tf.rank(a))\n",
    "print(\"a's rank:\" , tf.rank(b))\n",
    "print(\"a's rank:\" , tf.rank(c))\n",
    "print(\"a's rank:\" , tf.rank(d))\n"
   ]
  },
  {
   "cell_type": "markdown",
   "metadata": {},
   "source": [
    "### Shape"
   ]
  },
  {
   "cell_type": "code",
   "execution_count": null,
   "metadata": {},
   "outputs": [],
   "source": [
    "m,n = c.get_shape() #언패킹"
   ]
  },
  {
   "cell_type": "code",
   "execution_count": 24,
   "metadata": {},
   "outputs": [
    {
     "name": "stdout",
     "output_type": "stream",
     "text": [
      "a's shape: ()\n",
      "b's shape: (2,)\n",
      "c's shape: (2, 2)\n",
      "d's shape: (2, 2, 2)\n",
      "**************************************************\n",
      "a's rank: Tensor(\"Shape_2:0\", shape=(0,), dtype=int32)\n",
      "b's rank: Tensor(\"Rank_10:0\", shape=(), dtype=int32)\n",
      "c's rank: Tensor(\"Rank_11:0\", shape=(), dtype=int32)\n",
      "d's rank: Tensor(\"Rank_12:0\", shape=(), dtype=int32)\n"
     ]
    }
   ],
   "source": [
    "print(\"a's shape:\" , a.get_shape())\n",
    "#print(\"a's shape:\" , a.shape)와 같은 결과\n",
    "print(\"b's shape:\" , b.get_shape())\n",
    "print(\"c's shape:\" , c.get_shape())\n",
    "print(\"d's shape:\" , d.get_shape())\n",
    "\n",
    "print(\"*\" *50)\n",
    "\n",
    "print(\"a's rank:\" , tf.shape(a))\n",
    "print(\"b's rank:\" , tf.rank(b))\n",
    "print(\"c's rank:\" , tf.rank(c))\n",
    "print(\"d's rank:\" , tf.rank(d))\n"
   ]
  },
  {
   "cell_type": "markdown",
   "metadata": {},
   "source": [
    "### dtpye\n",
    "* data type을 통용시켜야하고 범위가 큰 쪽으로 맞춰진다.(캐스팅 형 변환)"
   ]
  },
  {
   "cell_type": "code",
   "execution_count": 22,
   "metadata": {},
   "outputs": [
    {
     "name": "stdout",
     "output_type": "stream",
     "text": [
      "a's type:  <dtype: 'int32'>\n",
      "b's type:  <dtype: 'float32'>\n",
      "c's type:  <dtype: 'float32'>\n",
      "d's type:  <dtype: 'float32'>\n"
     ]
    }
   ],
   "source": [
    "print(\"a's type: \" , a.dtype)\n",
    "print(\"b's type: \" , b.dtype)\n",
    "print(\"c's type: \" , c.dtype)\n",
    "print(\"d's type: \" , d.dtype)\n"
   ]
  },
  {
   "cell_type": "markdown",
   "metadata": {},
   "source": [
    "## Session관리"
   ]
  },
  {
   "cell_type": "markdown",
   "metadata": {},
   "source": [
    "## tf.get_default_session()\n",
    " * 디폴트 되어있는 세션\n",
    " * with로 해야 session이 반환됨. "
   ]
  },
  {
   "cell_type": "code",
   "execution_count": 26,
   "metadata": {},
   "outputs": [
    {
     "name": "stdout",
     "output_type": "stream",
     "text": [
      "None\n"
     ]
    }
   ],
   "source": [
    "session = tf.get_default_session()\n",
    "print(session)"
   ]
  },
  {
   "cell_type": "code",
   "execution_count": 27,
   "metadata": {},
   "outputs": [
    {
     "name": "stdout",
     "output_type": "stream",
     "text": [
      "<tensorflow.python.client.session.Session object at 0x00000184A87D67F0>\n"
     ]
    }
   ],
   "source": [
    "with tf.Session() as sess: \n",
    "     #with절로만 했을 때 get_default_session쓸 수 있음 \n",
    "    print(tf.get_default_session())"
   ]
  },
  {
   "cell_type": "markdown",
   "metadata": {},
   "source": [
    "* initializer - 따로하거나 global로 진행하거나\n",
    "* session해주고 거기서 run해줘야 진행함. \n",
    "* with에서 쓸 수 있다는건 b.initializer과 같다는 말. = sess.run(b.initializer)\n",
    "* 디폴트세션은 with절 안에서만 진행하기때문에 initializer을 하면 아무것도 안뜸. get_default_sessionn이 없으면\n",
    "\n",
    "* sess라는 객체를 만들어서 접근하지 않고 변수에서 바로 접근하기 위해서는(.initializer이나 .eval) with절이나 interactiveSession을 써야한다는 것. \n",
    "* "
   ]
  },
  {
   "cell_type": "markdown",
   "metadata": {},
   "source": [
    "## Graph 관리하기"
   ]
  },
  {
   "cell_type": "markdown",
   "metadata": {},
   "source": [
    "* get_default_graph() : 디폴트 값을 가져오면 어떤 객체값이 가져와짐. \n",
    "* is는 같냐는걸 물어보는거.\n",
    "* a.graph"
   ]
  },
  {
   "cell_type": "markdown",
   "metadata": {},
   "source": [
    "* 텐서 하나가 노드임. \n",
    "* a = tf.Variable하면 a라는 텐서를 하나 만드는 것임. 텐서가 어느 그래프에 속해있냐는게 a.graph임. \n",
    "* graph 객체는 캔버스라고 생각하자 (get_dafault하면 캔버스 호출하는거)\n",
    "* graph를 두개로 만드는 거는 한가지를 모델링해서 짠하고 나오는게 아님. 모델링 하나하나가 그래프임. 그래서 직선그래프 하나, 선형 그래프 하나, 그래서 그래프끼리 비교함. \n",
    "* 디폴트 그래프를 a라고 가정하면 그 전에 아무 그래프를 안만들었으니까 a.graph가 디폴트 그래프임. \n",
    "* 그리고 graph를 하나 만들어서 디폴트로 만들어 준것 그 안에서 b 텐서를 만들어 준거고 b.graph가 graph냐라고 하면 ㅇㅋ\n"
   ]
  },
  {
   "cell_type": "code",
   "execution_count": null,
   "metadata": {},
   "outputs": [],
   "source": []
  }
 ],
 "metadata": {
  "kernelspec": {
   "display_name": "Python 3",
   "language": "python",
   "name": "python3"
  },
  "language_info": {
   "codemirror_mode": {
    "name": "ipython",
    "version": 3
   },
   "file_extension": ".py",
   "mimetype": "text/x-python",
   "name": "python",
   "nbconvert_exporter": "python",
   "pygments_lexer": "ipython3",
   "version": "3.6.5"
  }
 },
 "nbformat": 4,
 "nbformat_minor": 2
}
